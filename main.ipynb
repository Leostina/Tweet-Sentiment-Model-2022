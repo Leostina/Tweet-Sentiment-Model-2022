{
 "cells": [
  {
   "cell_type": "markdown",
   "metadata": {},
   "source": [
    "##### The University of Melbourne, School of Computing and Information Systems\n",
    "# COMP30027 Machine Learning, 2022 Semester 1\n",
    "\n",
    "## Assignment 2: Sentiment Classification of Tweets\n",
    "\n",
    "This is a sample code to assist you with vectorising the 'Train' dataset for your assignment 2.\n",
    "\n",
    "First we read the CSV datafiles (Train and Test)."
   ]
  },
  {
   "cell_type": "code",
   "execution_count": 1,
   "metadata": {},
   "outputs": [
    {
     "name": "stderr",
     "output_type": "stream",
     "text": [
      "[nltk_data] Downloading package wordnet to\n",
      "[nltk_data]     /home/featurize/nltk_data...\n",
      "[nltk_data]   Package wordnet is already up-to-date!\n",
      "[nltk_data] Downloading package omw-1.4 to\n",
      "[nltk_data]     /home/featurize/nltk_data...\n",
      "[nltk_data]   Package omw-1.4 is already up-to-date!\n",
      "[nltk_data] Downloading package stopwords to\n",
      "[nltk_data]     /home/featurize/nltk_data...\n",
      "[nltk_data]   Package stopwords is already up-to-date!\n"
     ]
    },
    {
     "data": {
      "text/plain": [
       "True"
      ]
     },
     "execution_count": 1,
     "metadata": {},
     "output_type": "execute_result"
    }
   ],
   "source": [
    "import nltk\n",
    "nltk.download('wordnet')\n",
    "nltk.download('omw-1.4')\n",
    "nltk.download('stopwords')"
   ]
  },
  {
   "cell_type": "code",
   "execution_count": 2,
   "metadata": {},
   "outputs": [],
   "source": [
    "import matplotlib.pyplot as plt\n",
    "import numpy as np\n",
    "import pandas as pd\n",
    "import tensorflow as tf\n",
    "from sklearn.ensemble import RandomForestClassifier\n",
    "from sklearn.model_selection import train_test_split\n",
    "from sklearn.model_selection import cross_val_score\n",
    "from sklearn.metrics import accuracy_score,precision_score,recall_score\n",
    "from sklearn.feature_extraction.text import TfidfVectorizer\n",
    "from nltk.corpus import stopwords\n",
    "from nltk.stem import WordNetLemmatizer\n",
    "from tensorflow.keras.preprocessing.text import Tokenizer\n",
    "from tensorflow.keras.preprocessing.sequence import pad_sequences\n",
    "from wordcloud import WordCloud \n",
    "from collections import Counter\n"
   ]
  },
  {
   "cell_type": "code",
   "execution_count": 3,
   "metadata": {},
   "outputs": [],
   "source": [
    "train_data = pd.read_csv(\"./data/Train.csv\", sep=',')\n",
    "test_data = pd.read_csv(\"./data/Test.csv\", sep=',')\n"
   ]
  },
  {
   "cell_type": "code",
   "execution_count": 4,
   "metadata": {},
   "outputs": [
    {
     "name": "stdout",
     "output_type": "stream",
     "text": [
      "Train data first 5 items: \n",
      "    Unnamed: 0                  id  \\\n",
      "0           2  805582613687713000   \n",
      "1           3  637480203497832000   \n",
      "2           4  641096279930507000   \n",
      "3           5  625730917647126000   \n",
      "4           6  633292370906230000   \n",
      "\n",
      "                                                text sentiment  \n",
      "0   doctors hit campaign trail as race to medical...   neutral  \n",
      "1   is anybody going to the radio station tomorro...  positive  \n",
      "2   i just found out naruto didn't become the 5th...   neutral  \n",
      "3   \"prince george reservist who died saturday ju...   neutral  \n",
      "4   season in the sun versi nirvana rancak gak..s...  positive  \n",
      "Test data first 5 items: \n",
      "                    id                                               text\n",
      "0  802217876644052000   @loogunda @poroshenko putin abducted ukrainia...\n",
      "1  802425296955682000   if putin wanted to intervene all he would hav...\n",
      "2  805664502515662000   @hillbuzz @gaypatriot elsewhere in progland.....\n",
      "3  639928670103015000   any females copping the gucci foamposites tom...\n",
      "4  673824182287904000   \"in other news, had a great saturday on the t...\n"
     ]
    }
   ],
   "source": [
    "# observe a data record\n",
    "print(\"Train data first 5 items: \\n\", train_data.iloc[:5, :])\n",
    "print(\"Test data first 5 items: \\n\", test_data.iloc[:5, :])"
   ]
  },
  {
   "cell_type": "markdown",
   "metadata": {},
   "source": [
    "##### Split train and test data, then we separate the tweet text and the label (sentiment). \n",
    "##### The Train.csv dataset is further splited into: Training dataset, and validation dataset. The officially provided test dataset will be used for evaluating each model on Kaggle \n",
    "##### __url__ HERE\n",
    "##### Responsibilities of each dataset:\n",
    "###### train_data works as the training dataset for the models.\n",
    "###### validation_data works as the validation dataset for evaluating then **tuning** the model parameters.\n",
    "###### Finally the test_data would be used as the testing dataset for evaluating the performance of our tuned models on Kaggle."
   ]
  },
  {
   "cell_type": "code",
   "execution_count": 5,
   "metadata": {},
   "outputs": [],
   "source": [
    "#separating instance and label for Train\n",
    "X_train = [x[0] for x in train_data[['text']].values]\n",
    "y_train = [x[0] for x in train_data[['sentiment']].values]\n",
    "X_test = [x[0] for x in test_data[[\"text\"]].values]\n",
    "\n",
    "X_train, X_validation, y_train, y_validation = train_test_split(X_train, y_train, train_size = 0.75)"
   ]
  },
  {
   "cell_type": "markdown",
   "metadata": {},
   "source": [
    "Now each row is a list of tuples with the vector_id (word_id in the vocabulary) and the number of times it repeated in that given instance (tweet)."
   ]
  },
  {
   "cell_type": "code",
   "execution_count": 6,
   "metadata": {},
   "outputs": [
    {
     "name": "stdout",
     "output_type": "stream",
     "text": [
      "{'<??>': 1, 'a': 2, 'gets': 3, 'you': 4, 'to': 5, 'stop': 6, 'what': 7, \"da'\": 8, 'heck': 9, \"why'd\": 10, 'i': 11, 'get': 12, 'such': 13, 'an': 14, 'he': 15, 'lil': 16, 'bit': 17, 'drunk': 18, 'are': 19, 'yogurt': 20, 'yo': 21, 'listen': 22, 'me': 23, 'needs': 24, 'out': 25, 'of': 26, 'my': 27, 'room': 28, 'errors': 29, 'should': 30, 'never': 31, 'pass': 32, 'silently': 33}\n"
     ]
    }
   ],
   "source": [
    "\n",
    "test_s = [\"What da' heck, why'd i get such an a? He gets a lil bit drunk. you are a yogurt, yo. Listen to me, you needs to stop. Stop!! Gets out of my room, Errors should never pass silently.\"]\n",
    "tokenizer = Tokenizer( oov_token='<??>')\n",
    "tokenizer.fit_on_texts(test_s)\n",
    "print(tokenizer.word_index)\n"
   ]
  },
  {
   "cell_type": "markdown",
   "metadata": {},
   "source": [
    "As we can tell, Tokenizer does do some lemmatisation job such as remove the tail punctuations for you. However, it's does not do the job of the rest of lemmatisation."
   ]
  },
  {
   "cell_type": "markdown",
   "metadata": {},
   "source": [
    "## ==== Preprocessing Toolkit ====\n",
    "__Creating NLP preprocessing functions for later use__"
   ]
  },
  {
   "cell_type": "code",
   "execution_count": 7,
   "metadata": {},
   "outputs": [],
   "source": [
    "def lemmatise_words(words:list):\n",
    "    lemmatiser = WordNetLemmatizer()\n",
    "    return [lemmatiser.lemmatize(w) for w in words]\n"
   ]
  },
  {
   "cell_type": "code",
   "execution_count": 8,
   "metadata": {},
   "outputs": [],
   "source": [
    "def tokenise(texts):\n",
    "    tokenizer = Tokenizer(oov_token=\"<?>\")\n",
    "    tokenizer.fit_on_texts(texts)"
   ]
  },
  {
   "cell_type": "code",
   "execution_count": 9,
   "metadata": {},
   "outputs": [],
   "source": [
    "def no_nonalpha(words:list):\n",
    "    out = []\n",
    "    for w in words:\n",
    "        word = \"\"\n",
    "        for c in w:\n",
    "            # print(c.isalpha())\n",
    "            if c.isalpha():\n",
    "                word+=c\n",
    "        if len(word) > 0:\n",
    "            out.append(word)\n",
    "    return out"
   ]
  },
  {
   "cell_type": "code",
   "execution_count": 10,
   "metadata": {},
   "outputs": [],
   "source": [
    "def to_lower(words:list):\n",
    "    return [w.lower() for w in words]"
   ]
  },
  {
   "cell_type": "code",
   "execution_count": 11,
   "metadata": {},
   "outputs": [],
   "source": [
    "def no_stop(words:list):\n",
    "    s = stopwords.words('english')\n",
    "    return [w for w in words if w not in s]"
   ]
  },
  {
   "cell_type": "code",
   "execution_count": 12,
   "metadata": {},
   "outputs": [],
   "source": [
    "def wrangle(data, alpha_only = True, lemmatised = True, stop_removed = True, display_first =  0, visual = False):\n",
    "    wrangled_out = []\n",
    "    original_words = []\n",
    "    lemmatised_words = []\n",
    "    stop_removed_words = []\n",
    "    for record in data:\n",
    "        words = np.array(record.split())\n",
    "        # to lower\n",
    "        words = to_lower(words)\n",
    "        if display_first > 0:\n",
    "            print(\"Lower case: \\n\",words)\n",
    "        # remove non-alphabetical words\n",
    "        if alpha_only:\n",
    "            words = no_nonalpha(words)\n",
    "            if display_first > 0:\n",
    "                print(\"Alphabets only: \\n\",words)\n",
    "            for w in words:\n",
    "                original_words.append(w)\n",
    "        # lemmatisation\n",
    "        if lemmatised:\n",
    "            words = lemmatise_words(words)\n",
    "            if display_first > 0:\n",
    "                print(\"Lemmatised: \\n\", words)\n",
    "            for w in words:\n",
    "                lemmatised_words.append(w)\n",
    "        # Remove stop words\n",
    "        if stop_removed:\n",
    "            words = no_stop(words)\n",
    "            if display_first > 0:\n",
    "                print(\"Stop words removed: \\n\",words)\n",
    "            for w in words:\n",
    "                stop_removed_words.append(w)\n",
    "        wrangled_out.append(words)\n",
    "        display_first -= 1\n",
    "    # visualise use word cloud\n",
    "    if visual:\n",
    "        # non-alpha removed\n",
    "        cloud = WordCloud(max_words=120, max_font_size=40, background_color=\"white\")\n",
    "        cloud.generate(\" \".join(original_words))\n",
    "        plt.figure(figsize=(16,16),dpi = 150)\n",
    "        plt.title(\"WordCloud showing training data after non-alphabet phrases removal.\")\n",
    "        plt.imshow(cloud, alpha=0.9)\n",
    "\n",
    "        # lemmatised_words\n",
    "        cloud = WordCloud(max_words=120, max_font_size=40, background_color=\"white\")\n",
    "        cloud.generate(\" \".join(lemmatised_words))\n",
    "        plt.figure(figsize=(16,16),dpi = 150)\n",
    "        plt.title(\"WordCloud showing training data after non-alphabet phrases removal, and lemmatisation.\")\n",
    "        plt.imshow(cloud, alpha=0.9)\n",
    "\n",
    "        # stop removed\n",
    "        cloud = WordCloud(max_words=120, max_font_size=40, background_color=\"white\")\n",
    "        cloud.generate(\" \".join(stop_removed_words))\n",
    "        plt.figure(figsize=(16,16),dpi = 150)\n",
    "        plt.title(\"WordCloud showing training data after non-alphabet phrases removal, lemmatisation, and stopwords removal (sequential).\")\n",
    "        plt.imshow(cloud, alpha=0.9)\n",
    "            \n",
    "    return wrangled_out\n",
    "\n"
   ]
  },
  {
   "cell_type": "markdown",
   "metadata": {},
   "source": [
    "# Preprocessing"
   ]
  },
  {
   "cell_type": "markdown",
   "metadata": {},
   "source": [
    "Lemmatisation is done as the first step since it regulate stop words to their original form, serving for the following procesesing jobs."
   ]
  },
  {
   "cell_type": "code",
   "execution_count": 14,
   "metadata": {},
   "outputs": [],
   "source": [
    "wrangled_train = wrangle(X_train, alpha_only=True, display_first=0, visual = False)"
   ]
  },
  {
   "cell_type": "markdown",
   "metadata": {},
   "source": [
    "### __Apply same wrangling to validation set and test set__"
   ]
  },
  {
   "cell_type": "code",
   "execution_count": 15,
   "metadata": {},
   "outputs": [],
   "source": [
    "wrangled_validation = wrangle(X_validation, alpha_only=True, display_first=0, visual = False)\n",
    "wrangled_test = wrangle(X_test, alpha_only=True,display_first=0, visual=False)"
   ]
  },
  {
   "cell_type": "markdown",
   "metadata": {},
   "source": [
    "# __Random Forest__"
   ]
  },
  {
   "cell_type": "markdown",
   "metadata": {},
   "source": [
    "__now fed the cleaned data into the TFIDF Vectorizer__"
   ]
  },
  {
   "cell_type": "code",
   "execution_count": 16,
   "metadata": {},
   "outputs": [
    {
     "name": "stdout",
     "output_type": "stream",
     "text": [
      "16351\n"
     ]
    }
   ],
   "source": [
    "def get_tfidf_fit(dataset:list):\n",
    "    flatten = []\n",
    "    for s in dataset:\n",
    "        flatten.append(\" \".join(s))\n",
    "    tfidf_vectorizer = TfidfVectorizer()\n",
    "    tfidf_fit = tfidf_vectorizer.fit(flatten)\n",
    "    dict_vocab2id = tfidf_fit.vocabulary_\n",
    "    dict_id2vocab = dict()\n",
    "    for pair in dict_vocab2id.items():\n",
    "        dict_id2vocab.update({pair[1]:pair[0]})\n",
    "    return tfidf_fit, dict_id2vocab, dict_vocab2id\n",
    "\n",
    "def act_tfidf_fit(dataset:list, tfidf_fit):\n",
    "    flatten = []\n",
    "    for s in dataset:\n",
    "        flatten.append(\" \".join(s))\n",
    "    out = tfidf_fit.transform(flatten)\n",
    "    return out\n",
    "\n",
    "tfidf_fit, test_dict_id2vcab, test_dict_vocab2id  = get_tfidf_fit(wrangled_train)\n",
    "\n",
    "# tfidf to all 3 datasets\n",
    "tfidf_train = act_tfidf_fit(wrangled_train, tfidf_fit)\n",
    "tfidf_validation = act_tfidf_fit(wrangled_validation, tfidf_fit)\n",
    "tfidf_test = act_tfidf_fit(wrangled_test, tfidf_fit)\n",
    "\n",
    "N_ESTIMATOR = 500\n",
    "MIN_SAMPLES_LEAF = 2\n",
    "BOOTSTRAP = True\n",
    "OOB_SCORE = True\n",
    "\n",
    "\n",
    "forest = RandomForestClassifier(\n",
    "    n_estimators=N_ESTIMATOR, min_samples_leaf=MIN_SAMPLES_LEAF, bootstrap=BOOTSTRAP, oob_score=OOB_SCORE)\n",
    "# forest.fit()\n",
    "print(len(X_train))"
   ]
  },
  {
   "cell_type": "markdown",
   "metadata": {},
   "source": [
    "__Perform Randomforest on first run__"
   ]
  },
  {
   "cell_type": "code",
   "execution_count": 17,
   "metadata": {},
   "outputs": [],
   "source": [
    "N_ESTIMATOR = 500\n",
    "MIN_SAMPLES_LEAF = 2\n",
    "BOOTSTRAP = True\n",
    "OOB_SCORE = True"
   ]
  },
  {
   "cell_type": "code",
   "execution_count": 18,
   "metadata": {},
   "outputs": [],
   "source": [
    "forest = RandomForestClassifier(\n",
    "    n_estimators=N_ESTIMATOR, min_samples_leaf=MIN_SAMPLES_LEAF, bootstrap=BOOTSTRAP, oob_score=OOB_SCORE)"
   ]
  },
  {
   "cell_type": "code",
   "execution_count": 47,
   "metadata": {},
   "outputs": [
    {
     "data": {
      "text/plain": [
       "RandomForestClassifier(min_samples_leaf=2, n_estimators=500, oob_score=True)"
      ]
     },
     "execution_count": 47,
     "metadata": {},
     "output_type": "execute_result"
    }
   ],
   "source": [
    "forest.fit(tfidf_train, y_train)"
   ]
  },
  {
   "cell_type": "code",
   "execution_count": 294,
   "metadata": {},
   "outputs": [
    {
     "name": "stdout",
     "output_type": "stream",
     "text": [
      "RandomForest hyperparameters: \n",
      "N_ESTIMATOR = 500\n",
      "MIN_SAMPLES_LEAF = 2\n",
      "BOOTSTRAP = True\n",
      "\n",
      "Mean accuacy (on training data) of the first RandomForest Model: 0.753898844107394\n",
      "\n",
      "OOB score of the first RandomForst Model: 0.6416732921533851\n"
     ]
    }
   ],
   "source": [
    "print(f\"RandomForest hyperparameters: \\nN_ESTIMATOR = {N_ESTIMATOR}\\nMIN_SAMPLES_LEAF = {MIN_SAMPLES_LEAF}\\nBOOTSTRAP = {BOOTSTRAP}\")\n",
    "print(f\"\\nMean accuacy (on training data) of the first RandomForest Model: {forest.score(tfidf_train,y_train)}\")\n",
    "print(f\"\\nOOB score of the first RandomForst Model: {forest.oob_score_}\")"
   ]
  },
  {
   "cell_type": "markdown",
   "metadata": {},
   "source": [
    "__Tuning the Random Forest__"
   ]
  },
  {
   "cell_type": "code",
   "execution_count": 19,
   "metadata": {},
   "outputs": [],
   "source": [
    "from sklearn.model_selection import GridSearchCV\n",
    "\n",
    "forest_tuned = RandomForestClassifier()\n",
    "N_ESTIMATORS = [10, 100, 500]\n",
    "MAX_DEPTH = [10, 20, 50, None]\n",
    "BOOTSTRAP = True\n",
    "OOB_SCORE = True\n",
    "params = {'n_estimators': N_ESTIMATORS, 'max_depth': MAX_DEPTH}"
   ]
  },
  {
   "cell_type": "markdown",
   "metadata": {},
   "source": [
    "__!! LONG TIME WARNING BELOW CELL !!__"
   ]
  },
  {
   "cell_type": "code",
   "execution_count": 38,
   "metadata": {},
   "outputs": [
    {
     "data": {
      "text/plain": [
       "GridSearchCV(estimator=RandomForestClassifier(),\n",
       "             param_grid={'max_depth': [10, 20, 50, None],\n",
       "                         'n_estimators': [10, 100, 500]})"
      ]
     },
     "execution_count": 38,
     "metadata": {},
     "output_type": "execute_result"
    }
   ],
   "source": [
    "tuner = GridSearchCV(forest_tuned, params)\n",
    "tuner.fit(tfidf_train, y_train)"
   ]
  },
  {
   "cell_type": "markdown",
   "metadata": {},
   "source": [
    "__!! LONG TIME WARNING ABOVE CELL !!__"
   ]
  },
  {
   "cell_type": "code",
   "execution_count": 21,
   "metadata": {},
   "outputs": [],
   "source": [
    "def disp_result(r):\n",
    "    print('BEST PARAMS: {}\\n'.format(r.best_params_))\n",
    "\n",
    "    means = r.cv_results_['mean_test_score']\n",
    "    stds = r.cv_results_['std_test_score']\n",
    "    for mean, std, params in zip(means, stds, r.cv_results_['params']):\n",
    "        print('{} for {}'.format(round(mean, 5) ,params))\n",
    "\n",
    "# disp_result(tuner)"
   ]
  },
  {
   "cell_type": "markdown",
   "metadata": {},
   "source": [
    "__TEST ON VALIDATION SET WITH THE CURRENT BEST PARAMs__"
   ]
  },
  {
   "cell_type": "code",
   "execution_count": 22,
   "metadata": {},
   "outputs": [],
   "source": [
    "N_ESTIMATOR = 500\n",
    "MIN_SAMPLES_LEAF = 2\n",
    "BOOTSTRAP = True\n",
    "OOB_SCORE = True\n"
   ]
  },
  {
   "cell_type": "code",
   "execution_count": 23,
   "metadata": {},
   "outputs": [],
   "source": [
    "bestForest = RandomForestClassifier(\n",
    "    n_estimators=N_ESTIMATOR, min_samples_leaf=MIN_SAMPLES_LEAF, bootstrap=BOOTSTRAP, oob_score=OOB_SCORE)"
   ]
  },
  {
   "cell_type": "code",
   "execution_count": 24,
   "metadata": {},
   "outputs": [
    {
     "data": {
      "text/plain": [
       "RandomForestClassifier(min_samples_leaf=2, n_estimators=500, oob_score=True)"
      ]
     },
     "execution_count": 24,
     "metadata": {},
     "output_type": "execute_result"
    }
   ],
   "source": [
    "bestForest.fit(tfidf_train, y_train)"
   ]
  },
  {
   "cell_type": "code",
   "execution_count": 25,
   "metadata": {},
   "outputs": [],
   "source": [
    "y_validation_pred = np.array(bestForest.predict(tfidf_validation))"
   ]
  },
  {
   "cell_type": "code",
   "execution_count": 26,
   "metadata": {},
   "outputs": [
    {
     "name": "stdout",
     "output_type": "stream",
     "text": [
      "Precision:  0.65085\n",
      "Recall:  0.65254\n",
      "Accuracy:  0.65254\n"
     ]
    }
   ],
   "source": [
    "precision = round(precision_score(y_validation,y_validation_pred,average=\"weighted\"), 5)\n",
    "recall = round(recall_score(y_validation,y_validation_pred,average=\"weighted\"),5)\n",
    "accuracy = round(accuracy_score(y_validation,y_validation_pred), 5)\n",
    "print(\"Precision: \", precision)\n",
    "print(\"Recall: \", recall)\n",
    "print(\"Accuracy: \", accuracy)\n"
   ]
  },
  {
   "cell_type": "code",
   "execution_count": 27,
   "metadata": {},
   "outputs": [],
   "source": [
    "term_impact = pd.Series(bestForest.feature_importances_)\n",
    "nlargest = term_impact.nlargest(40).items()\n",
    "nlargestwords = dict()\n",
    "for i in nlargest:\n",
    "    nlargestwords.update({test_dict_id2vcab[i[0]] : i[1] })\n",
    "\n",
    "nlargestwords = dict(sorted(nlargestwords.items(), key = lambda item: item[1]))"
   ]
  },
  {
   "cell_type": "code",
   "execution_count": 28,
   "metadata": {},
   "outputs": [
    {
     "data": {
      "image/png": "[encoded data removed]",
      "text/plain": [
       "<Figure size 1120x1120 with 1 Axes>"
      ]
     },
     "metadata": {
      "needs_background": "light"
     },
     "output_type": "display_data"
    }
   ],
   "source": [
    "\n",
    "plt.figure(figsize=(16,16),dpi = 70)\n",
    "plt.barh(list(nlargestwords.keys()), list(nlargestwords.values()))\n",
    "plt.title(\"40 most important words\")\n",
    "plt.show()\n",
    "\n"
   ]
  },
  {
   "cell_type": "markdown",
   "metadata": {},
   "source": [
    "__Build Nultidimential Random Forest Model using all data from train.csv, for maximising the performance__"
   ]
  },
  {
   "cell_type": "code",
   "execution_count": 148,
   "metadata": {},
   "outputs": [],
   "source": [
    "train_data = pd.read_csv(\"./data/Train.csv\", sep=',')\n",
    "test_data = pd.read_csv(\"./data/Test.csv\", sep=',')\n",
    "\n",
    "#separating instance and label for Train\n",
    "X = np.array([x[0] for x in train_data[['text']].values])\n",
    "y = np.array([x[0] for x in train_data[['sentiment']].values])\n",
    "\n",
    "X_RF = wrangle(X, alpha_only= True, lemmatised=True, stop_removed=True)"
   ]
  },
  {
   "cell_type": "code",
   "execution_count": 150,
   "metadata": {},
   "outputs": [],
   "source": [
    "tfidf_fit, test_dict_id2vcab, test_dict_vocab2id  = get_tfidf_fit(X_RF)\n",
    "\n",
    "# tfidf to all 3 datasets\n",
    "tfidf_train = act_tfidf_fit(X_RF, tfidf_fit)\n",
    "\n",
    "N_ESTIMATOR = 500\n",
    "MIN_SAMPLES_LEAF = 2\n",
    "BOOTSTRAP = True\n",
    "OOB_SCORE = True\n",
    "\n",
    "\n",
    "rf = RandomForestClassifier(\n",
    "    n_estimators=N_ESTIMATOR, min_samples_leaf=MIN_SAMPLES_LEAF, bootstrap=BOOTSTRAP, oob_score=OOB_SCORE)\n",
    "\n",
    "\n"
   ]
  },
  {
   "cell_type": "markdown",
   "metadata": {},
   "source": [
    "# __MULTIDIMENTIONAL NAIVE BAYES__"
   ]
  },
  {
   "cell_type": "code",
   "execution_count": 134,
   "metadata": {},
   "outputs": [],
   "source": [
    "from sklearn.naive_bayes import MultinomialNB\n",
    "from sklearn.feature_extraction.text import CountVectorizer\n",
    "from sklearn.metrics import accuracy_score, recall_score, precision_score, f1_score, confusion_matrix\n",
    "from nltk.tokenize import SpaceTokenizer"
   ]
  },
  {
   "cell_type": "code",
   "execution_count": 146,
   "metadata": {},
   "outputs": [],
   "source": [
    "train_data = pd.read_csv(\"./data/Train.csv\", sep=',')\n",
    "test_data = pd.read_csv(\"./data/Test.csv\", sep=',')\n",
    "\n",
    "#separating instance and label for Train\n",
    "X = np.array([x[0] for x in train_data[['text']].values])\n",
    "y = np.array([x[0] for x in train_data[['sentiment']].values])\n"
   ]
  },
  {
   "cell_type": "code",
   "execution_count": 136,
   "metadata": {},
   "outputs": [],
   "source": [
    "X_NB = wrangle(X, alpha_only= True, lemmatised=True, stop_removed=True)\n"
   ]
  },
  {
   "cell_type": "code",
   "execution_count": 137,
   "metadata": {},
   "outputs": [],
   "source": [
    "MAX_LENGTH_NB = 150"
   ]
  },
  {
   "cell_type": "code",
   "execution_count": 138,
   "metadata": {},
   "outputs": [],
   "source": [
    "token = SpaceTokenizer()\n",
    "cv = CountVectorizer(stop_words=\"english\", ngram_range=(1,1), tokenizer=token.tokenize)\n",
    "text_counts = cv.fit_transform([\" \".join(t) for t in X_NB])"
   ]
  },
  {
   "cell_type": "code",
   "execution_count": 139,
   "metadata": {},
   "outputs": [],
   "source": [
    "X_train_NB, X_validation_NB, y_train_NB, y_validation_NB = train_test_split(text_counts, y, train_size = 0.75)"
   ]
  },
  {
   "cell_type": "code",
   "execution_count": 144,
   "metadata": {},
   "outputs": [
    {
     "data": {
      "text/plain": [
       "MultinomialNB()"
      ]
     },
     "execution_count": 144,
     "metadata": {},
     "output_type": "execute_result"
    }
   ],
   "source": [
    "clf = MultinomialNB()\n",
    "clf.fit(X=X_train_NB, y = y_train_NB)"
   ]
  },
  {
   "cell_type": "code",
   "execution_count": 145,
   "metadata": {},
   "outputs": [],
   "source": [
    "y_pred_NB = clf.predict(X_validation_NB)"
   ]
  },
  {
   "cell_type": "code",
   "execution_count": 143,
   "metadata": {},
   "outputs": [
    {
     "name": "stdout",
     "output_type": "stream",
     "text": [
      "Accuracy:  0.6154833975417354\n",
      "Precision:  0.605895545712872\n",
      "Recall:  0.6154833975417354\n",
      "F1 Score:  0.6073272376458253\n"
     ]
    }
   ],
   "source": [
    "print(\"Accuracy: \", accuracy_score(y_validation_NB, y_pred_NB))\n",
    "print(\"Precision: \", precision_score(y_validation_NB, y_pred_NB, average=\"weighted\"))\n",
    "print(\"Recall: \", recall_score(y_validation_NB, y_pred_NB, average=\"weighted\"))\n",
    "print(\"F1 Score: \", f1_score(y_validation_NB, y_pred_NB, average=\"weighted\"))\n"
   ]
  },
  {
   "cell_type": "markdown",
   "metadata": {},
   "source": [
    "__Build Nultidimential Naive Bayes Model using all data from train.csv, for maximising the performance__"
   ]
  },
  {
   "cell_type": "code",
   "execution_count": 147,
   "metadata": {},
   "outputs": [
    {
     "data": {
      "text/plain": [
       "MultinomialNB()"
      ]
     },
     "execution_count": 147,
     "metadata": {},
     "output_type": "execute_result"
    }
   ],
   "source": [
    "mnb = MultinomialNB()\n",
    "mnb.fit(X=text_counts, y = y)"
   ]
  },
  {
   "cell_type": "markdown",
   "metadata": {},
   "source": [
    "# __Support Vector Machine__"
   ]
  },
  {
   "cell_type": "code",
   "execution_count": 226,
   "metadata": {},
   "outputs": [],
   "source": [
    "from sklearn import svm\n",
    "from sklearn.feature_extraction.text import TfidfVectorizer"
   ]
  },
  {
   "cell_type": "code",
   "execution_count": 232,
   "metadata": {},
   "outputs": [],
   "source": [
    "train_data = pd.read_csv(\"./data/Train.csv\", sep=',')\n",
    "test_data = pd.read_csv(\"./data/Test.csv\", sep=',')\n",
    "\n",
    "#separating instance and label for Train\n",
    "X = np.array([x[0] for x in train_data[['text']].values])\n",
    "y = np.array([x[0] for x in train_data[['sentiment']].values])\n",
    "\n",
    "X_train, X_validation, y_train, y_validation = train_test_split(X, y, train_size = 0.85)\n"
   ]
  },
  {
   "cell_type": "code",
   "execution_count": 265,
   "metadata": {},
   "outputs": [],
   "source": [
    "X_train_SVM = [\" \".join(s) for s in wrangle(X_train)]\n",
    "X_validation_SVM =[\" \".join(s) for s in wrangle(X_validation)]\n",
    "\n",
    "tfidf_vectorizer = TfidfVectorizer(min_df = 5,\n",
    "                             max_df = 0.7,\n",
    "                             sublinear_tf = True,\n",
    "                             use_idf = True)\n",
    "train_v = tfidf_vectorizer.fit_transform(X_train_SVM)\n",
    "validation_v =  tfidf_vectorizer.transform(X_validation_SVM)\n"
   ]
  },
  {
   "cell_type": "code",
   "execution_count": 266,
   "metadata": {},
   "outputs": [],
   "source": [
    "from sklearn import svm\n",
    "svm = svm.SVC(kernel = \"linear\")"
   ]
  },
  {
   "cell_type": "code",
   "execution_count": 267,
   "metadata": {},
   "outputs": [
    {
     "data": {
      "text/plain": [
       "SVC(kernel='linear')"
      ]
     },
     "execution_count": 267,
     "metadata": {},
     "output_type": "execute_result"
    }
   ],
   "source": [
    "svm.fit(train_v, y_train)"
   ]
  },
  {
   "cell_type": "code",
   "execution_count": 268,
   "metadata": {},
   "outputs": [],
   "source": [
    "y_pred_SVM = svm.predict(validation_v)"
   ]
  },
  {
   "cell_type": "code",
   "execution_count": 269,
   "metadata": {},
   "outputs": [
    {
     "name": "stdout",
     "output_type": "stream",
     "text": [
      "Precision 0.6505897807552291\n",
      "Accuracy 0.6594313665545705\n",
      "Precision 0.6594313665545705\n",
      "f1-score 0.6350989437999944\n"
     ]
    }
   ],
   "source": [
    "print(\"Precision\", precision_score(y_validation, y_pred_SVM, average = 'weighted'))\n",
    "print(\"Accuracy\", accuracy_score(y_validation, y_pred_SVM))\n",
    "print(\"Precision\", recall_score(y_validation, y_pred_SVM, average = 'weighted'))\n",
    "print(\"f1-score\", f1_score(y_validation, y_pred_SVM, average = 'weighted'))"
   ]
  },
  {
   "cell_type": "markdown",
   "metadata": {},
   "source": [
    "# __Recurrent Neural Network : Long Short Term Memory__"
   ]
  },
  {
   "cell_type": "code",
   "execution_count": 151,
   "metadata": {},
   "outputs": [],
   "source": [
    "import tensorflow as tf\n",
    "import numpy as np\n",
    "import matplotlib.pyplot as plt\n",
    "from tensorflow.keras.preprocessing.text import Tokenizer\n",
    "from tensorflow.keras.preprocessing.sequence import pad_sequences"
   ]
  },
  {
   "cell_type": "code",
   "execution_count": 152,
   "metadata": {},
   "outputs": [
    {
     "name": "stdout",
     "output_type": "stream",
     "text": [
      "Average tweet length 114.71139379854444\n",
      "Max tweet length 1222\n",
      "0.95 Quantile tweet length 143.0\n",
      "0.99 Quantile tweet length 147.0\n"
     ]
    }
   ],
   "source": [
    "print(\"Average tweet length\",np.mean([len(x) for x in X_train]))\n",
    "print(\"Max tweet length\",np.max([len(x) for x in X_train]))\n",
    "print(\"0.95 Quantile tweet length\",np.quantile([len(x) for x in X_train], 0.95))\n",
    "print(\"0.99 Quantile tweet length\",np.quantile([len(x) for x in X_train], 0.99))"
   ]
  },
  {
   "cell_type": "code",
   "execution_count": 187,
   "metadata": {},
   "outputs": [],
   "source": [
    "train_data = pd.read_csv(\"./data/Train.csv\", sep=',')\n",
    "test_data = pd.read_csv(\"./data/Test.csv\", sep=',')\n",
    "\n",
    "#separating instance and label for Train\n",
    "X_train = np.array([x[0] for x in train_data[['text']].values])\n",
    "y_train = np.array([x[0] for x in train_data[['sentiment']].values])\n",
    "\n",
    "X_train, X_validation, y_train, y_validation = train_test_split(X_train, y_train, train_size = 0.90)"
   ]
  },
  {
   "cell_type": "code",
   "execution_count": 188,
   "metadata": {},
   "outputs": [],
   "source": [
    "X_train_LSTM = wrangle(X_train)\n",
    "X_validation_LSTM = wrangle(X_validation)"
   ]
  },
  {
   "cell_type": "code",
   "execution_count": 189,
   "metadata": {},
   "outputs": [],
   "source": [
    "tokeniser = Tokenizer( oov_token='<???>')\n",
    "tokeniser.fit_on_texts(X_train_LSTM)"
   ]
  },
  {
   "cell_type": "code",
   "execution_count": 190,
   "metadata": {},
   "outputs": [],
   "source": [
    "MAX_LEN = 150\n",
    "TRUNCATING = 'post'\n",
    "PADDING = 'post'\n",
    "N_WORDS = tokeniser.word_index.__len__()\n"
   ]
  },
  {
   "cell_type": "code",
   "execution_count": 191,
   "metadata": {},
   "outputs": [],
   "source": [
    "def to_seq(tokeniser, texts):\n",
    "    seq = tokeniser.texts_to_sequences(texts)\n",
    "    padded_texts = pad_sequences(seq, truncating = TRUNCATING, padding=PADDING, maxlen=MAX_LEN)\n",
    "    return padded_texts"
   ]
  },
  {
   "cell_type": "code",
   "execution_count": 192,
   "metadata": {},
   "outputs": [],
   "source": [
    "sent2idx_dict = dict((sentiment,idx) for idx, sentiment in enumerate(set(y_train)))\n",
    "idx2sent_dict = dict((value,key) for key, value in sent2idx_dict.items())\n",
    "def sent2idx(y_train):\n",
    "    y_indeces = []\n",
    "    for y in y_train:\n",
    "        y_indeces.append(sent2idx_dict[y])\n",
    "    return np.array(y_indeces)\n",
    "\n",
    "def idx2sent(y_train):\n",
    "    y_indeces = []\n",
    "    for y in y_train:\n",
    "        y_indeces.append(idx2sent_dict[y])\n",
    "    return np.array(y_indeces)\n",
    "\n",
    "    "
   ]
  },
  {
   "cell_type": "code",
   "execution_count": 193,
   "metadata": {},
   "outputs": [],
   "source": [
    "lstm = tf.keras.models.Sequential([\n",
    "tf.keras.layers.Embedding( N_WORDS,16,input_length=MAX_LEN),\n",
    "tf.keras.layers.SpatialDropout1D(0.4),\n",
    "tf.keras.layers.Conv1D(filters=32, kernel_size=3, padding='same', activation='relu'),\n",
    "# tf.keras.layers.Bidirectional(tf.keras.layers.LSTM(20, return_sequences=True)),\n",
    "tf.keras.layers.Bidirectional(tf.keras.layers.LSTM(20)),\n",
    "tf.keras.layers.Dropout(0.3),\n",
    "tf.keras.layers.Dense(3, activation='softmax')\n",
    "])\n",
    "lstm.compile(\n",
    "     loss='sparse_categorical_crossentropy',\n",
    "     optimizer='adam',\n",
    "     metrics=['accuracy']\n",
    ")"
   ]
  },
  {
   "cell_type": "code",
   "execution_count": 194,
   "metadata": {},
   "outputs": [
    {
     "name": "stdout",
     "output_type": "stream",
     "text": [
      "Epoch 1/20\n",
      "614/614 [==============================] - 20s 28ms/step - loss: 0.9041 - accuracy: 0.6028 - val_loss: 0.7810 - val_accuracy: 0.6483\n",
      "Epoch 2/20\n",
      "614/614 [==============================] - 16s 26ms/step - loss: 0.7076 - accuracy: 0.6910 - val_loss: 0.7394 - val_accuracy: 0.6657\n",
      "Epoch 3/20\n",
      "614/614 [==============================] - 16s 26ms/step - loss: 0.5479 - accuracy: 0.7770 - val_loss: 0.7663 - val_accuracy: 0.6612\n"
     ]
    }
   ],
   "source": [
    "seq_train = to_seq(tokenizer, X_train_LSTM)\n",
    "seq_validation = to_seq(tokenizer,X_validation_LSTM)\n",
    "y_train_idx = sent2idx(y_train)\n",
    "y_validation_idx= sent2idx(y_validation)\n",
    "lstm_fitted = lstm.fit(\n",
    "     seq_train, y_train_idx,\n",
    "     validation_data=(seq_validation, y_validation_idx),\n",
    "     epochs=20,\n",
    "     callbacks=[tf.keras.callbacks.EarlyStopping(monitor='val_accuracy', patience=1)]\n",
    ")"
   ]
  },
  {
   "cell_type": "code",
   "execution_count": null,
   "metadata": {},
   "outputs": [],
   "source": []
  },
  {
   "cell_type": "markdown",
   "metadata": {},
   "source": [
    "# __ENSEMBLE MODEL__\n",
    "###### __[META]: Logistic Regression </br> [BASEs]: SVM, RandomForest, Multidimential Naive Bayes, LSTM__"
   ]
  },
  {
   "cell_type": "code",
   "execution_count": 270,
   "metadata": {},
   "outputs": [],
   "source": [
    "from sklearn.ensemble import StackingClassifier\n",
    "from sklearn.linear_model import LogisticRegression"
   ]
  },
  {
   "cell_type": "code",
   "execution_count": 281,
   "metadata": {},
   "outputs": [],
   "source": [
    "clfs = [('svm', svm),('rf', rf),('mnb', mnb)]"
   ]
  },
  {
   "cell_type": "code",
   "execution_count": 282,
   "metadata": {},
   "outputs": [],
   "source": [
    "stack = StackingClassifier(estimators = clfs, final_estimator= LogisticRegression())"
   ]
  },
  {
   "cell_type": "code",
   "execution_count": 284,
   "metadata": {},
   "outputs": [],
   "source": [
    "X_train_stack = [\" \".join(s) for s in wrangle(X_train)]\n",
    "X_validation_stack =[\" \".join(s) for s in wrangle(X_validation)]\n",
    "\n",
    "tfidf_vectorizer = TfidfVectorizer()\n",
    "train_v_stack = tfidf_vectorizer.fit_transform(X_train_stack)\n",
    "validation_v_stack =  tfidf_vectorizer.transform(X_validation_stack)\n"
   ]
  },
  {
   "cell_type": "code",
   "execution_count": 283,
   "metadata": {},
   "outputs": [
    {
     "name": "stderr",
     "output_type": "stream",
     "text": [
      "/environment/miniconda3/lib/python3.7/site-packages/sklearn/linear_model/_logistic.py:818: ConvergenceWarning: lbfgs failed to converge (status=1):\n",
      "STOP: TOTAL NO. of ITERATIONS REACHED LIMIT.\n",
      "\n",
      "Increase the number of iterations (max_iter) or scale the data as shown in:\n",
      "    https://scikit-learn.org/stable/modules/preprocessing.html\n",
      "Please also refer to the documentation for alternative solver options:\n",
      "    https://scikit-learn.org/stable/modules/linear_model.html#logistic-regression\n",
      "  extra_warning_msg=_LOGISTIC_SOLVER_CONVERGENCE_MSG,\n"
     ]
    },
    {
     "data": {
      "text/plain": [
       "StackingClassifier(estimators=[('svm', SVC(kernel='linear')),\n",
       "                               ('rf',\n",
       "                                RandomForestClassifier(min_samples_leaf=2,\n",
       "                                                       n_estimators=500,\n",
       "                                                       oob_score=True)),\n",
       "                               ('mnb', MultinomialNB())],\n",
       "                   final_estimator=LogisticRegression())"
      ]
     },
     "execution_count": 283,
     "metadata": {},
     "output_type": "execute_result"
    }
   ],
   "source": [
    "stack.fit(train_v_stack,y_train)"
   ]
  },
  {
   "cell_type": "code",
   "execution_count": 286,
   "metadata": {},
   "outputs": [],
   "source": [
    "stack_pred = stack.predict(validation_v_stack)"
   ]
  },
  {
   "cell_type": "code",
   "execution_count": 287,
   "metadata": {},
   "outputs": [
    {
     "name": "stdout",
     "output_type": "stream",
     "text": [
      "Precision 0.6529190669550127\n",
      "Accuracy 0.6618771018037297\n",
      "Precision 0.6618771018037297\n",
      "f1-score 0.650163382536137\n"
     ]
    }
   ],
   "source": [
    "\n",
    "print(\"Precision\", precision_score(y_validation, stack_pred, average = 'weighted'))\n",
    "print(\"Accuracy\", accuracy_score(y_validation, stack_pred))\n",
    "print(\"Precision\", recall_score(y_validation, stack_pred, average = 'weighted'))\n",
    "print(\"f1-score\", f1_score(y_validation, stack_pred, average = 'weighted'))"
   ]
  },
  {
   "cell_type": "code",
   "execution_count": 289,
   "metadata": {},
   "outputs": [],
   "source": [
    "X_test_stack =[\" \".join(s) for s in wrangle(X_test)]\n",
    "test_v_stack =  tfidf_vectorizer.transform(X_validation_stack)\n",
    "pred_test_stack = stack.predict(test_v_stack)"
   ]
  }
 ],
 "metadata": {
  "interpreter": {
   "hash": "b114295533213be714c497b6c7c7c36862ca698da8b4418201631177dea05d47"
  },
  "kernelspec": {
   "display_name": "Python 3.7.10 ('base')",
   "language": "python",
   "name": "python3"
  },
  "language_info": {
   "codemirror_mode": {
    "name": "ipython",
    "version": 3
   },
   "file_extension": ".py",
   "mimetype": "text/x-python",
   "name": "python",
   "nbconvert_exporter": "python",
   "pygments_lexer": "ipython3",
   "version": "3.7.10"
  }
 },
 "nbformat": 4,
 "nbformat_minor": 4
}
